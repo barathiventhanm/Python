{
 "cells": [
  {
   "cell_type": "code",
   "execution_count": 157,
   "metadata": {},
   "outputs": [],
   "source": [
    "import pandas as pd\n",
    "import numpy as np\n",
    "import matplotlib.pyplot as plt"
   ]
  },
  {
   "cell_type": "code",
   "execution_count": 158,
   "metadata": {},
   "outputs": [],
   "source": [
    "data=pd.read_csv('C:/Users/120761/Documents/PyScripts/EDA.csv')"
   ]
  },
  {
   "cell_type": "code",
   "execution_count": 159,
   "metadata": {},
   "outputs": [
    {
     "data": {
      "text/plain": [
       "Index(['Name', 'Design', 'Salary', 'ID', 'Exp'], dtype='object')"
      ]
     },
     "execution_count": 159,
     "metadata": {},
     "output_type": "execute_result"
    }
   ],
   "source": [
    "data.columns"
   ]
  },
  {
   "cell_type": "code",
   "execution_count": 160,
   "metadata": {},
   "outputs": [
    {
     "data": {
      "text/plain": [
       "<bound method NDFrame.copy of          Name     Design  Salary  ID  Exp\n",
       "0     barathi  analytics  1000.0   1  5.0\n",
       "1    saravana       lead  2000.0   2  2.0\n",
       "2        bala      clerk  1000.0   3  6.0\n",
       "3         NaN   security   500.0   4  2.0\n",
       "4       fahad      bench   500.0   5  2.0\n",
       "5     karunya  developer  1000.0   6  5.0\n",
       "6      dharan        NaN  3000.0   7  8.0\n",
       "7         NaN        NaN     NaN   8  NaN\n",
       "8      karthi        NaN     NaN   9  NaN\n",
       "9   rajendran    painter   200.0  10  1.0\n",
       "10       siva        NaN     NaN  11  NaN\n",
       "11        NaN     driver   500.0  12  2.0\n",
       "12      lakah  developer  1233.0  13  4.0\n",
       "13     ganesh        NaN     NaN  14  NaN\n",
       "14        rao  scientist     NaN  15  NaN>"
      ]
     },
     "execution_count": 160,
     "metadata": {},
     "output_type": "execute_result"
    }
   ],
   "source": [
    "data.copy"
   ]
  },
  {
   "cell_type": "code",
   "execution_count": 161,
   "metadata": {},
   "outputs": [
    {
     "data": {
      "text/html": [
       "<div>\n",
       "<style scoped>\n",
       "    .dataframe tbody tr th:only-of-type {\n",
       "        vertical-align: middle;\n",
       "    }\n",
       "\n",
       "    .dataframe tbody tr th {\n",
       "        vertical-align: top;\n",
       "    }\n",
       "\n",
       "    .dataframe thead th {\n",
       "        text-align: right;\n",
       "    }\n",
       "</style>\n",
       "<table border=\"1\" class=\"dataframe\">\n",
       "  <thead>\n",
       "    <tr style=\"text-align: right;\">\n",
       "      <th></th>\n",
       "      <th>Name</th>\n",
       "      <th>Design</th>\n",
       "      <th>Salary</th>\n",
       "      <th>ID</th>\n",
       "      <th>Exp</th>\n",
       "    </tr>\n",
       "  </thead>\n",
       "  <tbody>\n",
       "    <tr>\n",
       "      <th>0</th>\n",
       "      <td>barathi</td>\n",
       "      <td>analytics</td>\n",
       "      <td>1000.0</td>\n",
       "      <td>1</td>\n",
       "      <td>5.0</td>\n",
       "    </tr>\n",
       "    <tr>\n",
       "      <th>1</th>\n",
       "      <td>saravana</td>\n",
       "      <td>lead</td>\n",
       "      <td>2000.0</td>\n",
       "      <td>2</td>\n",
       "      <td>2.0</td>\n",
       "    </tr>\n",
       "    <tr>\n",
       "      <th>2</th>\n",
       "      <td>bala</td>\n",
       "      <td>clerk</td>\n",
       "      <td>1000.0</td>\n",
       "      <td>3</td>\n",
       "      <td>6.0</td>\n",
       "    </tr>\n",
       "    <tr>\n",
       "      <th>3</th>\n",
       "      <td>NaN</td>\n",
       "      <td>security</td>\n",
       "      <td>500.0</td>\n",
       "      <td>4</td>\n",
       "      <td>2.0</td>\n",
       "    </tr>\n",
       "    <tr>\n",
       "      <th>4</th>\n",
       "      <td>fahad</td>\n",
       "      <td>bench</td>\n",
       "      <td>500.0</td>\n",
       "      <td>5</td>\n",
       "      <td>2.0</td>\n",
       "    </tr>\n",
       "    <tr>\n",
       "      <th>5</th>\n",
       "      <td>karunya</td>\n",
       "      <td>developer</td>\n",
       "      <td>1000.0</td>\n",
       "      <td>6</td>\n",
       "      <td>5.0</td>\n",
       "    </tr>\n",
       "    <tr>\n",
       "      <th>6</th>\n",
       "      <td>dharan</td>\n",
       "      <td>NaN</td>\n",
       "      <td>3000.0</td>\n",
       "      <td>7</td>\n",
       "      <td>8.0</td>\n",
       "    </tr>\n",
       "    <tr>\n",
       "      <th>7</th>\n",
       "      <td>NaN</td>\n",
       "      <td>NaN</td>\n",
       "      <td>NaN</td>\n",
       "      <td>8</td>\n",
       "      <td>NaN</td>\n",
       "    </tr>\n",
       "    <tr>\n",
       "      <th>8</th>\n",
       "      <td>karthi</td>\n",
       "      <td>NaN</td>\n",
       "      <td>NaN</td>\n",
       "      <td>9</td>\n",
       "      <td>NaN</td>\n",
       "    </tr>\n",
       "    <tr>\n",
       "      <th>9</th>\n",
       "      <td>rajendran</td>\n",
       "      <td>painter</td>\n",
       "      <td>200.0</td>\n",
       "      <td>10</td>\n",
       "      <td>1.0</td>\n",
       "    </tr>\n",
       "    <tr>\n",
       "      <th>10</th>\n",
       "      <td>siva</td>\n",
       "      <td>NaN</td>\n",
       "      <td>NaN</td>\n",
       "      <td>11</td>\n",
       "      <td>NaN</td>\n",
       "    </tr>\n",
       "    <tr>\n",
       "      <th>11</th>\n",
       "      <td>NaN</td>\n",
       "      <td>driver</td>\n",
       "      <td>500.0</td>\n",
       "      <td>12</td>\n",
       "      <td>2.0</td>\n",
       "    </tr>\n",
       "    <tr>\n",
       "      <th>12</th>\n",
       "      <td>lakah</td>\n",
       "      <td>developer</td>\n",
       "      <td>1233.0</td>\n",
       "      <td>13</td>\n",
       "      <td>4.0</td>\n",
       "    </tr>\n",
       "    <tr>\n",
       "      <th>13</th>\n",
       "      <td>ganesh</td>\n",
       "      <td>NaN</td>\n",
       "      <td>NaN</td>\n",
       "      <td>14</td>\n",
       "      <td>NaN</td>\n",
       "    </tr>\n",
       "    <tr>\n",
       "      <th>14</th>\n",
       "      <td>rao</td>\n",
       "      <td>scientist</td>\n",
       "      <td>NaN</td>\n",
       "      <td>15</td>\n",
       "      <td>NaN</td>\n",
       "    </tr>\n",
       "  </tbody>\n",
       "</table>\n",
       "</div>"
      ],
      "text/plain": [
       "         Name     Design  Salary  ID  Exp\n",
       "0     barathi  analytics  1000.0   1  5.0\n",
       "1    saravana       lead  2000.0   2  2.0\n",
       "2        bala      clerk  1000.0   3  6.0\n",
       "3         NaN   security   500.0   4  2.0\n",
       "4       fahad      bench   500.0   5  2.0\n",
       "5     karunya  developer  1000.0   6  5.0\n",
       "6      dharan        NaN  3000.0   7  8.0\n",
       "7         NaN        NaN     NaN   8  NaN\n",
       "8      karthi        NaN     NaN   9  NaN\n",
       "9   rajendran    painter   200.0  10  1.0\n",
       "10       siva        NaN     NaN  11  NaN\n",
       "11        NaN     driver   500.0  12  2.0\n",
       "12      lakah  developer  1233.0  13  4.0\n",
       "13     ganesh        NaN     NaN  14  NaN\n",
       "14        rao  scientist     NaN  15  NaN"
      ]
     },
     "execution_count": 161,
     "metadata": {},
     "output_type": "execute_result"
    }
   ],
   "source": [
    "data"
   ]
  },
  {
   "cell_type": "code",
   "execution_count": 162,
   "metadata": {},
   "outputs": [
    {
     "data": {
      "text/plain": [
       "['Name', 'Design', 'Salary', 'Exp']"
      ]
     },
     "execution_count": 162,
     "metadata": {},
     "output_type": "execute_result"
    }
   ],
   "source": [
    "#missing values to find\n",
    "\n",
    "features_with_na=[features for features in data.columns if data[features].isnull().sum()>1]\n",
    "features_with_na"
   ]
  },
  {
   "cell_type": "code",
   "execution_count": 163,
   "metadata": {},
   "outputs": [
    {
     "name": "stdout",
     "output_type": "stream",
     "text": [
      "Name 0.2 %missing values\n",
      "Design 0.3333 %missing values\n",
      "Salary 0.3333 %missing values\n",
      "Exp 0.3333 %missing values\n"
     ]
    }
   ],
   "source": [
    "for features in features_with_na:\n",
    "    print(features,np.round(data[features].isnull().mean(),4),'%missing values')"
   ]
  },
  {
   "cell_type": "code",
   "execution_count": 164,
   "metadata": {},
   "outputs": [
    {
     "data": {
      "image/png": "[encoded data removed]",
      "text/plain": [
       "<Figure size 432x288 with 1 Axes>"
      ]
     },
     "metadata": {
      "needs_background": "light"
     },
     "output_type": "display_data"
    },
    {
     "data": {
      "image/png": "[encoded data removed]",
      "text/plain": [
       "<Figure size 432x288 with 1 Axes>"
      ]
     },
     "metadata": {
      "needs_background": "light"
     },
     "output_type": "display_data"
    },
    {
     "data": {
      "image/png": "[encoded data removed]",
      "text/plain": [
       "<Figure size 432x288 with 1 Axes>"
      ]
     },
     "metadata": {
      "needs_background": "light"
     },
     "output_type": "display_data"
    },
    {
     "data": {
      "image/png": "[encoded data removed]",
      "text/plain": [
       "<Figure size 432x288 with 1 Axes>"
      ]
     },
     "metadata": {
      "needs_background": "light"
     },
     "output_type": "display_data"
    }
   ],
   "source": [
    "#if any missing values we need to say it as 1 else 0 with respect to salary column\n",
    "\n",
    "for features in features_with_na:\n",
    "    dataset=data.copy()\n",
    "    \n",
    "    dataset[features]= np.where(dataset[features].isnull(),1,0)\n",
    "    dataset.groupby(features)['Salary'].median().plot.bar()\n",
    "    plt.show()"
   ]
  },
  {
   "cell_type": "code",
   "execution_count": 165,
   "metadata": {},
   "outputs": [
    {
     "name": "stdout",
     "output_type": "stream",
     "text": [
      "total ID - 15\n"
     ]
    }
   ],
   "source": [
    "print('total ID - {}'.format(len(data.ID)))"
   ]
  },
  {
   "cell_type": "code",
   "execution_count": 166,
   "metadata": {},
   "outputs": [
    {
     "data": {
      "text/plain": [
       "['Salary', 'ID', 'Exp']"
      ]
     },
     "execution_count": 166,
     "metadata": {},
     "output_type": "execute_result"
    }
   ],
   "source": [
    "#finding the Numerical variables \n",
    "\n",
    "\n",
    "features_with_numbers=[features for features in data.columns if data[features].dtypes!='O']\n",
    "features_with_numbers"
   ]
  },
  {
   "cell_type": "code",
   "execution_count": 167,
   "metadata": {},
   "outputs": [
    {
     "name": "stdout",
     "output_type": "stream",
     "text": [
      "total numerical features 3\n"
     ]
    }
   ],
   "source": [
    "print('total numerical features',len(features_with_numbers))"
   ]
  },
  {
   "cell_type": "code",
   "execution_count": 168,
   "metadata": {},
   "outputs": [
    {
     "data": {
      "text/html": [
       "<div>\n",
       "<style scoped>\n",
       "    .dataframe tbody tr th:only-of-type {\n",
       "        vertical-align: middle;\n",
       "    }\n",
       "\n",
       "    .dataframe tbody tr th {\n",
       "        vertical-align: top;\n",
       "    }\n",
       "\n",
       "    .dataframe thead th {\n",
       "        text-align: right;\n",
       "    }\n",
       "</style>\n",
       "<table border=\"1\" class=\"dataframe\">\n",
       "  <thead>\n",
       "    <tr style=\"text-align: right;\">\n",
       "      <th></th>\n",
       "      <th>Salary</th>\n",
       "      <th>ID</th>\n",
       "      <th>Exp</th>\n",
       "    </tr>\n",
       "  </thead>\n",
       "  <tbody>\n",
       "    <tr>\n",
       "      <th>0</th>\n",
       "      <td>1000.0</td>\n",
       "      <td>1</td>\n",
       "      <td>5.0</td>\n",
       "    </tr>\n",
       "    <tr>\n",
       "      <th>1</th>\n",
       "      <td>2000.0</td>\n",
       "      <td>2</td>\n",
       "      <td>2.0</td>\n",
       "    </tr>\n",
       "    <tr>\n",
       "      <th>2</th>\n",
       "      <td>1000.0</td>\n",
       "      <td>3</td>\n",
       "      <td>6.0</td>\n",
       "    </tr>\n",
       "    <tr>\n",
       "      <th>3</th>\n",
       "      <td>500.0</td>\n",
       "      <td>4</td>\n",
       "      <td>2.0</td>\n",
       "    </tr>\n",
       "    <tr>\n",
       "      <th>4</th>\n",
       "      <td>500.0</td>\n",
       "      <td>5</td>\n",
       "      <td>2.0</td>\n",
       "    </tr>\n",
       "    <tr>\n",
       "      <th>5</th>\n",
       "      <td>1000.0</td>\n",
       "      <td>6</td>\n",
       "      <td>5.0</td>\n",
       "    </tr>\n",
       "    <tr>\n",
       "      <th>6</th>\n",
       "      <td>3000.0</td>\n",
       "      <td>7</td>\n",
       "      <td>8.0</td>\n",
       "    </tr>\n",
       "    <tr>\n",
       "      <th>7</th>\n",
       "      <td>NaN</td>\n",
       "      <td>8</td>\n",
       "      <td>NaN</td>\n",
       "    </tr>\n",
       "    <tr>\n",
       "      <th>8</th>\n",
       "      <td>NaN</td>\n",
       "      <td>9</td>\n",
       "      <td>NaN</td>\n",
       "    </tr>\n",
       "    <tr>\n",
       "      <th>9</th>\n",
       "      <td>200.0</td>\n",
       "      <td>10</td>\n",
       "      <td>1.0</td>\n",
       "    </tr>\n",
       "    <tr>\n",
       "      <th>10</th>\n",
       "      <td>NaN</td>\n",
       "      <td>11</td>\n",
       "      <td>NaN</td>\n",
       "    </tr>\n",
       "    <tr>\n",
       "      <th>11</th>\n",
       "      <td>500.0</td>\n",
       "      <td>12</td>\n",
       "      <td>2.0</td>\n",
       "    </tr>\n",
       "    <tr>\n",
       "      <th>12</th>\n",
       "      <td>1233.0</td>\n",
       "      <td>13</td>\n",
       "      <td>4.0</td>\n",
       "    </tr>\n",
       "    <tr>\n",
       "      <th>13</th>\n",
       "      <td>NaN</td>\n",
       "      <td>14</td>\n",
       "      <td>NaN</td>\n",
       "    </tr>\n",
       "    <tr>\n",
       "      <th>14</th>\n",
       "      <td>NaN</td>\n",
       "      <td>15</td>\n",
       "      <td>NaN</td>\n",
       "    </tr>\n",
       "  </tbody>\n",
       "</table>\n",
       "</div>"
      ],
      "text/plain": [
       "    Salary  ID  Exp\n",
       "0   1000.0   1  5.0\n",
       "1   2000.0   2  2.0\n",
       "2   1000.0   3  6.0\n",
       "3    500.0   4  2.0\n",
       "4    500.0   5  2.0\n",
       "5   1000.0   6  5.0\n",
       "6   3000.0   7  8.0\n",
       "7      NaN   8  NaN\n",
       "8      NaN   9  NaN\n",
       "9    200.0  10  1.0\n",
       "10     NaN  11  NaN\n",
       "11   500.0  12  2.0\n",
       "12  1233.0  13  4.0\n",
       "13     NaN  14  NaN\n",
       "14     NaN  15  NaN"
      ]
     },
     "execution_count": 168,
     "metadata": {},
     "output_type": "execute_result"
    }
   ],
   "source": [
    "data[features_with_numbers]"
   ]
  },
  {
   "cell_type": "code",
   "execution_count": 169,
   "metadata": {},
   "outputs": [
    {
     "data": {
      "text/plain": [
       "['Exp']"
      ]
     },
     "execution_count": 169,
     "metadata": {},
     "output_type": "execute_result"
    }
   ],
   "source": [
    "exp_feature=[features for features in features_with_numbers if 'Exp' in features]\n",
    "exp_feature"
   ]
  },
  {
   "cell_type": "code",
   "execution_count": 170,
   "metadata": {},
   "outputs": [],
   "source": [
    "for features in name_Sal_features:\n",
    "    print(features,data[features].unique())"
   ]
  },
  {
   "cell_type": "code",
   "execution_count": 171,
   "metadata": {},
   "outputs": [
    {
     "data": {
      "text/plain": [
       "0     5.0\n",
       "1     2.0\n",
       "2     6.0\n",
       "3     2.0\n",
       "4     2.0\n",
       "5     5.0\n",
       "6     8.0\n",
       "7     NaN\n",
       "8     NaN\n",
       "9     1.0\n",
       "10    NaN\n",
       "11    2.0\n",
       "12    4.0\n",
       "13    NaN\n",
       "14    NaN\n",
       "Name: Exp, dtype: float64"
      ]
     },
     "execution_count": 171,
     "metadata": {},
     "output_type": "execute_result"
    }
   ],
   "source": [
    "data[features]"
   ]
  },
  {
   "cell_type": "code",
   "execution_count": 172,
   "metadata": {},
   "outputs": [
    {
     "data": {
      "text/plain": [
       "Text(0, 0.5, 'Salary')"
      ]
     },
     "execution_count": 172,
     "metadata": {},
     "output_type": "execute_result"
    },
    {
     "data": {
      "image/png": "[encoded data removed]",
      "text/plain": [
       "<Figure size 432x288 with 1 Axes>"
      ]
     },
     "metadata": {
      "needs_background": "light"
     },
     "output_type": "display_data"
    }
   ],
   "source": [
    "#analysisng temprory dataset using charts\n",
    "\n",
    "data.groupby('Design')['Salary'].sum().plot.bar()\n",
    "plt.xlabel('Designation')\n",
    "plt.ylabel('Salary')\n",
    "\n"
   ]
  },
  {
   "cell_type": "code",
   "execution_count": 173,
   "metadata": {},
   "outputs": [
    {
     "data": {
      "text/plain": [
       "['Exp']"
      ]
     },
     "execution_count": 173,
     "metadata": {},
     "output_type": "execute_result"
    }
   ],
   "source": [
    "exp_feature"
   ]
  },
  {
   "cell_type": "code",
   "execution_count": 174,
   "metadata": {},
   "outputs": [
    {
     "data": {
      "image/png": "[encoded data removed]",
      "text/plain": [
       "<Figure size 432x288 with 1 Axes>"
      ]
     },
     "metadata": {
      "needs_background": "light"
     },
     "output_type": "display_data"
    }
   ],
   "source": [
    "for features in exp_feature:\n",
    "    dataset=data.copy()\n",
    "    \n",
    "    dataset[features]=data['Exp']-dataset[features]\n",
    "    plt.scatter(dataset[features],data['Salary'])\n",
    "    plt.xlabel(features)\n",
    "    plt.ylabel('Salary')\n",
    "    plt.show()\n"
   ]
  },
  {
   "cell_type": "code",
   "execution_count": 175,
   "metadata": {},
   "outputs": [
    {
     "data": {
      "text/plain": [
       "['Name', 'Design']"
      ]
     },
     "execution_count": 175,
     "metadata": {},
     "output_type": "execute_result"
    }
   ],
   "source": [
    "#finding Category features\n",
    "\n",
    "features_category=[features for features in data.columns if data[features].dtypes=='O']\n",
    "features_category"
   ]
  },
  {
   "cell_type": "code",
   "execution_count": 176,
   "metadata": {},
   "outputs": [
    {
     "data": {
      "image/png": "[encoded data removed]",
      "text/plain": [
       "<Figure size 432x288 with 1 Axes>"
      ]
     },
     "metadata": {
      "needs_background": "light"
     },
     "output_type": "display_data"
    },
    {
     "data": {
      "image/png": "[encoded data removed]",
      "text/plain": [
       "<Figure size 432x288 with 1 Axes>"
      ]
     },
     "metadata": {
      "needs_background": "light"
     },
     "output_type": "display_data"
    }
   ],
   "source": [
    "#comparing the Dependent variable with Categorical features\n",
    "\n",
    "for features in features_category:\n",
    "    dataset=data.copy()\n",
    "    dataset.groupby(features)['Salary'].sum().plot.bar()\n",
    "    plt.xlabel(features)\n",
    "    plt.ylabel('Salary')\n",
    "    plt.show()"
   ]
  },
  {
   "cell_type": "code",
   "execution_count": 177,
   "metadata": {},
   "outputs": [
    {
     "data": {
      "text/plain": [
       "['Name', 'Design']"
      ]
     },
     "execution_count": 177,
     "metadata": {},
     "output_type": "execute_result"
    }
   ],
   "source": [
    "#Replacing Nan values with missing label:\n",
    "\n",
    "features_with_na_cate=[features for features in data.columns if data[features].isnull().sum()>1 and data[features].dtypes=='O']\n",
    "features_with_na_cate"
   ]
  },
  {
   "cell_type": "code",
   "execution_count": 178,
   "metadata": {},
   "outputs": [
    {
     "data": {
      "text/plain": [
       "Name      0\n",
       "Design    0\n",
       "dtype: int64"
      ]
     },
     "execution_count": 178,
     "metadata": {},
     "output_type": "execute_result"
    }
   ],
   "source": [
    "#now creating a function to replace a nan with missing:\n",
    "\n",
    "def replacing_missing(data,features_with_na_cate):\n",
    "    dataset=data.copy()\n",
    "    dataset[features_with_na_cate]=dataset[features_with_na_cate].fillna('Missing')\n",
    "    return(dataset)\n",
    "\n",
    "data=replacing_missing(data,features_with_na_cate)\n",
    "data[features_with_na_cate].isnull().sum()"
   ]
  },
  {
   "cell_type": "code",
   "execution_count": 179,
   "metadata": {},
   "outputs": [
    {
     "data": {
      "text/html": [
       "<div>\n",
       "<style scoped>\n",
       "    .dataframe tbody tr th:only-of-type {\n",
       "        vertical-align: middle;\n",
       "    }\n",
       "\n",
       "    .dataframe tbody tr th {\n",
       "        vertical-align: top;\n",
       "    }\n",
       "\n",
       "    .dataframe thead th {\n",
       "        text-align: right;\n",
       "    }\n",
       "</style>\n",
       "<table border=\"1\" class=\"dataframe\">\n",
       "  <thead>\n",
       "    <tr style=\"text-align: right;\">\n",
       "      <th></th>\n",
       "      <th>Name</th>\n",
       "      <th>Design</th>\n",
       "      <th>Salary</th>\n",
       "      <th>ID</th>\n",
       "      <th>Exp</th>\n",
       "    </tr>\n",
       "  </thead>\n",
       "  <tbody>\n",
       "    <tr>\n",
       "      <th>0</th>\n",
       "      <td>barathi</td>\n",
       "      <td>analytics</td>\n",
       "      <td>1000.0</td>\n",
       "      <td>1</td>\n",
       "      <td>5.0</td>\n",
       "    </tr>\n",
       "    <tr>\n",
       "      <th>1</th>\n",
       "      <td>saravana</td>\n",
       "      <td>lead</td>\n",
       "      <td>2000.0</td>\n",
       "      <td>2</td>\n",
       "      <td>2.0</td>\n",
       "    </tr>\n",
       "    <tr>\n",
       "      <th>2</th>\n",
       "      <td>bala</td>\n",
       "      <td>clerk</td>\n",
       "      <td>1000.0</td>\n",
       "      <td>3</td>\n",
       "      <td>6.0</td>\n",
       "    </tr>\n",
       "    <tr>\n",
       "      <th>3</th>\n",
       "      <td>Missing</td>\n",
       "      <td>security</td>\n",
       "      <td>500.0</td>\n",
       "      <td>4</td>\n",
       "      <td>2.0</td>\n",
       "    </tr>\n",
       "    <tr>\n",
       "      <th>4</th>\n",
       "      <td>fahad</td>\n",
       "      <td>bench</td>\n",
       "      <td>500.0</td>\n",
       "      <td>5</td>\n",
       "      <td>2.0</td>\n",
       "    </tr>\n",
       "    <tr>\n",
       "      <th>5</th>\n",
       "      <td>karunya</td>\n",
       "      <td>developer</td>\n",
       "      <td>1000.0</td>\n",
       "      <td>6</td>\n",
       "      <td>5.0</td>\n",
       "    </tr>\n",
       "    <tr>\n",
       "      <th>6</th>\n",
       "      <td>dharan</td>\n",
       "      <td>Missing</td>\n",
       "      <td>3000.0</td>\n",
       "      <td>7</td>\n",
       "      <td>8.0</td>\n",
       "    </tr>\n",
       "    <tr>\n",
       "      <th>7</th>\n",
       "      <td>Missing</td>\n",
       "      <td>Missing</td>\n",
       "      <td>NaN</td>\n",
       "      <td>8</td>\n",
       "      <td>NaN</td>\n",
       "    </tr>\n",
       "    <tr>\n",
       "      <th>8</th>\n",
       "      <td>karthi</td>\n",
       "      <td>Missing</td>\n",
       "      <td>NaN</td>\n",
       "      <td>9</td>\n",
       "      <td>NaN</td>\n",
       "    </tr>\n",
       "    <tr>\n",
       "      <th>9</th>\n",
       "      <td>rajendran</td>\n",
       "      <td>painter</td>\n",
       "      <td>200.0</td>\n",
       "      <td>10</td>\n",
       "      <td>1.0</td>\n",
       "    </tr>\n",
       "    <tr>\n",
       "      <th>10</th>\n",
       "      <td>siva</td>\n",
       "      <td>Missing</td>\n",
       "      <td>NaN</td>\n",
       "      <td>11</td>\n",
       "      <td>NaN</td>\n",
       "    </tr>\n",
       "    <tr>\n",
       "      <th>11</th>\n",
       "      <td>Missing</td>\n",
       "      <td>driver</td>\n",
       "      <td>500.0</td>\n",
       "      <td>12</td>\n",
       "      <td>2.0</td>\n",
       "    </tr>\n",
       "    <tr>\n",
       "      <th>12</th>\n",
       "      <td>lakah</td>\n",
       "      <td>developer</td>\n",
       "      <td>1233.0</td>\n",
       "      <td>13</td>\n",
       "      <td>4.0</td>\n",
       "    </tr>\n",
       "    <tr>\n",
       "      <th>13</th>\n",
       "      <td>ganesh</td>\n",
       "      <td>Missing</td>\n",
       "      <td>NaN</td>\n",
       "      <td>14</td>\n",
       "      <td>NaN</td>\n",
       "    </tr>\n",
       "    <tr>\n",
       "      <th>14</th>\n",
       "      <td>rao</td>\n",
       "      <td>scientist</td>\n",
       "      <td>NaN</td>\n",
       "      <td>15</td>\n",
       "      <td>NaN</td>\n",
       "    </tr>\n",
       "  </tbody>\n",
       "</table>\n",
       "</div>"
      ],
      "text/plain": [
       "         Name     Design  Salary  ID  Exp\n",
       "0     barathi  analytics  1000.0   1  5.0\n",
       "1    saravana       lead  2000.0   2  2.0\n",
       "2        bala      clerk  1000.0   3  6.0\n",
       "3     Missing   security   500.0   4  2.0\n",
       "4       fahad      bench   500.0   5  2.0\n",
       "5     karunya  developer  1000.0   6  5.0\n",
       "6      dharan    Missing  3000.0   7  8.0\n",
       "7     Missing    Missing     NaN   8  NaN\n",
       "8      karthi    Missing     NaN   9  NaN\n",
       "9   rajendran    painter   200.0  10  1.0\n",
       "10       siva    Missing     NaN  11  NaN\n",
       "11    Missing     driver   500.0  12  2.0\n",
       "12      lakah  developer  1233.0  13  4.0\n",
       "13     ganesh    Missing     NaN  14  NaN\n",
       "14        rao  scientist     NaN  15  NaN"
      ]
     },
     "execution_count": 179,
     "metadata": {},
     "output_type": "execute_result"
    }
   ],
   "source": [
    "data"
   ]
  },
  {
   "cell_type": "code",
   "execution_count": 180,
   "metadata": {},
   "outputs": [
    {
     "data": {
      "text/plain": [
       "['Salary', 'Exp']"
      ]
     },
     "execution_count": 180,
     "metadata": {},
     "output_type": "execute_result"
    }
   ],
   "source": [
    "#now lets check for Numerical variables , so when any numerical values are missing it should be replaced with Mode/Median\n",
    "\n",
    "features_with_na_num=[features for features in data.columns if data[features].isnull().sum()>1 and data[features].dtypes!='O']\n",
    "features_with_na_num"
   ]
  },
  {
   "cell_type": "code",
   "execution_count": 181,
   "metadata": {},
   "outputs": [
    {
     "data": {
      "text/plain": [
       "Salary    0\n",
       "Exp       0\n",
       "dtype: int64"
      ]
     },
     "execution_count": 181,
     "metadata": {},
     "output_type": "execute_result"
    }
   ],
   "source": [
    "for features in features_with_na_num:\n",
    "    median_value=data[features].median()\n",
    "    data[features + ' nan']=np.where(data[features].isnull(),1,0)\n",
    "    data[features].fillna(median_value,inplace=True)\n",
    "data[features_with_na_num].isnull().sum()"
   ]
  },
  {
   "cell_type": "code",
   "execution_count": 182,
   "metadata": {},
   "outputs": [
    {
     "data": {
      "text/html": [
       "<div>\n",
       "<style scoped>\n",
       "    .dataframe tbody tr th:only-of-type {\n",
       "        vertical-align: middle;\n",
       "    }\n",
       "\n",
       "    .dataframe tbody tr th {\n",
       "        vertical-align: top;\n",
       "    }\n",
       "\n",
       "    .dataframe thead th {\n",
       "        text-align: right;\n",
       "    }\n",
       "</style>\n",
       "<table border=\"1\" class=\"dataframe\">\n",
       "  <thead>\n",
       "    <tr style=\"text-align: right;\">\n",
       "      <th></th>\n",
       "      <th>Name</th>\n",
       "      <th>Design</th>\n",
       "      <th>Salary</th>\n",
       "      <th>ID</th>\n",
       "      <th>Exp</th>\n",
       "      <th>Salary nan</th>\n",
       "      <th>Exp nan</th>\n",
       "    </tr>\n",
       "  </thead>\n",
       "  <tbody>\n",
       "    <tr>\n",
       "      <th>0</th>\n",
       "      <td>barathi</td>\n",
       "      <td>analytics</td>\n",
       "      <td>1000.0</td>\n",
       "      <td>1</td>\n",
       "      <td>5.0</td>\n",
       "      <td>0</td>\n",
       "      <td>0</td>\n",
       "    </tr>\n",
       "    <tr>\n",
       "      <th>1</th>\n",
       "      <td>saravana</td>\n",
       "      <td>lead</td>\n",
       "      <td>2000.0</td>\n",
       "      <td>2</td>\n",
       "      <td>2.0</td>\n",
       "      <td>0</td>\n",
       "      <td>0</td>\n",
       "    </tr>\n",
       "    <tr>\n",
       "      <th>2</th>\n",
       "      <td>bala</td>\n",
       "      <td>clerk</td>\n",
       "      <td>1000.0</td>\n",
       "      <td>3</td>\n",
       "      <td>6.0</td>\n",
       "      <td>0</td>\n",
       "      <td>0</td>\n",
       "    </tr>\n",
       "    <tr>\n",
       "      <th>3</th>\n",
       "      <td>Missing</td>\n",
       "      <td>security</td>\n",
       "      <td>500.0</td>\n",
       "      <td>4</td>\n",
       "      <td>2.0</td>\n",
       "      <td>0</td>\n",
       "      <td>0</td>\n",
       "    </tr>\n",
       "    <tr>\n",
       "      <th>4</th>\n",
       "      <td>fahad</td>\n",
       "      <td>bench</td>\n",
       "      <td>500.0</td>\n",
       "      <td>5</td>\n",
       "      <td>2.0</td>\n",
       "      <td>0</td>\n",
       "      <td>0</td>\n",
       "    </tr>\n",
       "    <tr>\n",
       "      <th>5</th>\n",
       "      <td>karunya</td>\n",
       "      <td>developer</td>\n",
       "      <td>1000.0</td>\n",
       "      <td>6</td>\n",
       "      <td>5.0</td>\n",
       "      <td>0</td>\n",
       "      <td>0</td>\n",
       "    </tr>\n",
       "    <tr>\n",
       "      <th>6</th>\n",
       "      <td>dharan</td>\n",
       "      <td>Missing</td>\n",
       "      <td>3000.0</td>\n",
       "      <td>7</td>\n",
       "      <td>8.0</td>\n",
       "      <td>0</td>\n",
       "      <td>0</td>\n",
       "    </tr>\n",
       "    <tr>\n",
       "      <th>7</th>\n",
       "      <td>Missing</td>\n",
       "      <td>Missing</td>\n",
       "      <td>1000.0</td>\n",
       "      <td>8</td>\n",
       "      <td>3.0</td>\n",
       "      <td>1</td>\n",
       "      <td>1</td>\n",
       "    </tr>\n",
       "    <tr>\n",
       "      <th>8</th>\n",
       "      <td>karthi</td>\n",
       "      <td>Missing</td>\n",
       "      <td>1000.0</td>\n",
       "      <td>9</td>\n",
       "      <td>3.0</td>\n",
       "      <td>1</td>\n",
       "      <td>1</td>\n",
       "    </tr>\n",
       "    <tr>\n",
       "      <th>9</th>\n",
       "      <td>rajendran</td>\n",
       "      <td>painter</td>\n",
       "      <td>200.0</td>\n",
       "      <td>10</td>\n",
       "      <td>1.0</td>\n",
       "      <td>0</td>\n",
       "      <td>0</td>\n",
       "    </tr>\n",
       "    <tr>\n",
       "      <th>10</th>\n",
       "      <td>siva</td>\n",
       "      <td>Missing</td>\n",
       "      <td>1000.0</td>\n",
       "      <td>11</td>\n",
       "      <td>3.0</td>\n",
       "      <td>1</td>\n",
       "      <td>1</td>\n",
       "    </tr>\n",
       "    <tr>\n",
       "      <th>11</th>\n",
       "      <td>Missing</td>\n",
       "      <td>driver</td>\n",
       "      <td>500.0</td>\n",
       "      <td>12</td>\n",
       "      <td>2.0</td>\n",
       "      <td>0</td>\n",
       "      <td>0</td>\n",
       "    </tr>\n",
       "    <tr>\n",
       "      <th>12</th>\n",
       "      <td>lakah</td>\n",
       "      <td>developer</td>\n",
       "      <td>1233.0</td>\n",
       "      <td>13</td>\n",
       "      <td>4.0</td>\n",
       "      <td>0</td>\n",
       "      <td>0</td>\n",
       "    </tr>\n",
       "    <tr>\n",
       "      <th>13</th>\n",
       "      <td>ganesh</td>\n",
       "      <td>Missing</td>\n",
       "      <td>1000.0</td>\n",
       "      <td>14</td>\n",
       "      <td>3.0</td>\n",
       "      <td>1</td>\n",
       "      <td>1</td>\n",
       "    </tr>\n",
       "    <tr>\n",
       "      <th>14</th>\n",
       "      <td>rao</td>\n",
       "      <td>scientist</td>\n",
       "      <td>1000.0</td>\n",
       "      <td>15</td>\n",
       "      <td>3.0</td>\n",
       "      <td>1</td>\n",
       "      <td>1</td>\n",
       "    </tr>\n",
       "  </tbody>\n",
       "</table>\n",
       "</div>"
      ],
      "text/plain": [
       "         Name     Design  Salary  ID  Exp  Salary nan  Exp nan\n",
       "0     barathi  analytics  1000.0   1  5.0           0        0\n",
       "1    saravana       lead  2000.0   2  2.0           0        0\n",
       "2        bala      clerk  1000.0   3  6.0           0        0\n",
       "3     Missing   security   500.0   4  2.0           0        0\n",
       "4       fahad      bench   500.0   5  2.0           0        0\n",
       "5     karunya  developer  1000.0   6  5.0           0        0\n",
       "6      dharan    Missing  3000.0   7  8.0           0        0\n",
       "7     Missing    Missing  1000.0   8  3.0           1        1\n",
       "8      karthi    Missing  1000.0   9  3.0           1        1\n",
       "9   rajendran    painter   200.0  10  1.0           0        0\n",
       "10       siva    Missing  1000.0  11  3.0           1        1\n",
       "11    Missing     driver   500.0  12  2.0           0        0\n",
       "12      lakah  developer  1233.0  13  4.0           0        0\n",
       "13     ganesh    Missing  1000.0  14  3.0           1        1\n",
       "14        rao  scientist  1000.0  15  3.0           1        1"
      ]
     },
     "execution_count": 182,
     "metadata": {},
     "output_type": "execute_result"
    }
   ],
   "source": [
    "data"
   ]
  },
  {
   "cell_type": "code",
   "execution_count": 183,
   "metadata": {},
   "outputs": [
    {
     "data": {
      "text/plain": [
       "<function matplotlib.pyplot.show(close=None, block=None)>"
      ]
     },
     "execution_count": 183,
     "metadata": {},
     "output_type": "execute_result"
    },
    {
     "data": {
      "image/png": "[encoded data removed]",
      "text/plain": [
       "<Figure size 432x288 with 1 Axes>"
      ]
     },
     "metadata": {
      "needs_background": "light"
     },
     "output_type": "display_data"
    }
   ],
   "source": [
    "data.groupby('Exp')['Salary'].sum().plot.bar()\n",
    "plt.xlabel('Exp')\n",
    "plt.ylabel('Sal')\n",
    "plt.show"
   ]
  },
  {
   "cell_type": "code",
   "execution_count": 184,
   "metadata": {},
   "outputs": [],
   "source": [
    "import numpy as np"
   ]
  },
  {
   "cell_type": "code",
   "execution_count": 185,
   "metadata": {},
   "outputs": [],
   "source": [
    "import warnings\n",
    "warnings.filterwarnings('ignore')"
   ]
  },
  {
   "cell_type": "code",
   "execution_count": 186,
   "metadata": {},
   "outputs": [],
   "source": [
    "for fetaures in features_with_na_num:\n",
    "    data[features]=np.log(data[features])"
   ]
  },
  {
   "cell_type": "code",
   "execution_count": 187,
   "metadata": {},
   "outputs": [
    {
     "data": {
      "text/html": [
       "<div>\n",
       "<style scoped>\n",
       "    .dataframe tbody tr th:only-of-type {\n",
       "        vertical-align: middle;\n",
       "    }\n",
       "\n",
       "    .dataframe tbody tr th {\n",
       "        vertical-align: top;\n",
       "    }\n",
       "\n",
       "    .dataframe thead th {\n",
       "        text-align: right;\n",
       "    }\n",
       "</style>\n",
       "<table border=\"1\" class=\"dataframe\">\n",
       "  <thead>\n",
       "    <tr style=\"text-align: right;\">\n",
       "      <th></th>\n",
       "      <th>Name</th>\n",
       "      <th>Design</th>\n",
       "      <th>Salary</th>\n",
       "      <th>ID</th>\n",
       "      <th>Exp</th>\n",
       "      <th>Salary nan</th>\n",
       "      <th>Exp nan</th>\n",
       "    </tr>\n",
       "  </thead>\n",
       "  <tbody>\n",
       "    <tr>\n",
       "      <th>0</th>\n",
       "      <td>barathi</td>\n",
       "      <td>analytics</td>\n",
       "      <td>1000.0</td>\n",
       "      <td>1</td>\n",
       "      <td>0.475885</td>\n",
       "      <td>0</td>\n",
       "      <td>0</td>\n",
       "    </tr>\n",
       "    <tr>\n",
       "      <th>1</th>\n",
       "      <td>saravana</td>\n",
       "      <td>lead</td>\n",
       "      <td>2000.0</td>\n",
       "      <td>2</td>\n",
       "      <td>-0.366513</td>\n",
       "      <td>0</td>\n",
       "      <td>0</td>\n",
       "    </tr>\n",
       "    <tr>\n",
       "      <th>2</th>\n",
       "      <td>bala</td>\n",
       "      <td>clerk</td>\n",
       "      <td>1000.0</td>\n",
       "      <td>3</td>\n",
       "      <td>0.583198</td>\n",
       "      <td>0</td>\n",
       "      <td>0</td>\n",
       "    </tr>\n",
       "    <tr>\n",
       "      <th>3</th>\n",
       "      <td>Missing</td>\n",
       "      <td>security</td>\n",
       "      <td>500.0</td>\n",
       "      <td>4</td>\n",
       "      <td>-0.366513</td>\n",
       "      <td>0</td>\n",
       "      <td>0</td>\n",
       "    </tr>\n",
       "    <tr>\n",
       "      <th>4</th>\n",
       "      <td>fahad</td>\n",
       "      <td>bench</td>\n",
       "      <td>500.0</td>\n",
       "      <td>5</td>\n",
       "      <td>-0.366513</td>\n",
       "      <td>0</td>\n",
       "      <td>0</td>\n",
       "    </tr>\n",
       "    <tr>\n",
       "      <th>5</th>\n",
       "      <td>karunya</td>\n",
       "      <td>developer</td>\n",
       "      <td>1000.0</td>\n",
       "      <td>6</td>\n",
       "      <td>0.475885</td>\n",
       "      <td>0</td>\n",
       "      <td>0</td>\n",
       "    </tr>\n",
       "    <tr>\n",
       "      <th>6</th>\n",
       "      <td>dharan</td>\n",
       "      <td>Missing</td>\n",
       "      <td>3000.0</td>\n",
       "      <td>7</td>\n",
       "      <td>0.732099</td>\n",
       "      <td>0</td>\n",
       "      <td>0</td>\n",
       "    </tr>\n",
       "    <tr>\n",
       "      <th>7</th>\n",
       "      <td>Missing</td>\n",
       "      <td>Missing</td>\n",
       "      <td>1000.0</td>\n",
       "      <td>8</td>\n",
       "      <td>0.094048</td>\n",
       "      <td>1</td>\n",
       "      <td>1</td>\n",
       "    </tr>\n",
       "    <tr>\n",
       "      <th>8</th>\n",
       "      <td>karthi</td>\n",
       "      <td>Missing</td>\n",
       "      <td>1000.0</td>\n",
       "      <td>9</td>\n",
       "      <td>0.094048</td>\n",
       "      <td>1</td>\n",
       "      <td>1</td>\n",
       "    </tr>\n",
       "    <tr>\n",
       "      <th>9</th>\n",
       "      <td>rajendran</td>\n",
       "      <td>painter</td>\n",
       "      <td>200.0</td>\n",
       "      <td>10</td>\n",
       "      <td>-inf</td>\n",
       "      <td>0</td>\n",
       "      <td>0</td>\n",
       "    </tr>\n",
       "    <tr>\n",
       "      <th>10</th>\n",
       "      <td>siva</td>\n",
       "      <td>Missing</td>\n",
       "      <td>1000.0</td>\n",
       "      <td>11</td>\n",
       "      <td>0.094048</td>\n",
       "      <td>1</td>\n",
       "      <td>1</td>\n",
       "    </tr>\n",
       "    <tr>\n",
       "      <th>11</th>\n",
       "      <td>Missing</td>\n",
       "      <td>driver</td>\n",
       "      <td>500.0</td>\n",
       "      <td>12</td>\n",
       "      <td>-0.366513</td>\n",
       "      <td>0</td>\n",
       "      <td>0</td>\n",
       "    </tr>\n",
       "    <tr>\n",
       "      <th>12</th>\n",
       "      <td>lakah</td>\n",
       "      <td>developer</td>\n",
       "      <td>1233.0</td>\n",
       "      <td>13</td>\n",
       "      <td>0.326634</td>\n",
       "      <td>0</td>\n",
       "      <td>0</td>\n",
       "    </tr>\n",
       "    <tr>\n",
       "      <th>13</th>\n",
       "      <td>ganesh</td>\n",
       "      <td>Missing</td>\n",
       "      <td>1000.0</td>\n",
       "      <td>14</td>\n",
       "      <td>0.094048</td>\n",
       "      <td>1</td>\n",
       "      <td>1</td>\n",
       "    </tr>\n",
       "    <tr>\n",
       "      <th>14</th>\n",
       "      <td>rao</td>\n",
       "      <td>scientist</td>\n",
       "      <td>1000.0</td>\n",
       "      <td>15</td>\n",
       "      <td>0.094048</td>\n",
       "      <td>1</td>\n",
       "      <td>1</td>\n",
       "    </tr>\n",
       "  </tbody>\n",
       "</table>\n",
       "</div>"
      ],
      "text/plain": [
       "         Name     Design  Salary  ID       Exp  Salary nan  Exp nan\n",
       "0     barathi  analytics  1000.0   1  0.475885           0        0\n",
       "1    saravana       lead  2000.0   2 -0.366513           0        0\n",
       "2        bala      clerk  1000.0   3  0.583198           0        0\n",
       "3     Missing   security   500.0   4 -0.366513           0        0\n",
       "4       fahad      bench   500.0   5 -0.366513           0        0\n",
       "5     karunya  developer  1000.0   6  0.475885           0        0\n",
       "6      dharan    Missing  3000.0   7  0.732099           0        0\n",
       "7     Missing    Missing  1000.0   8  0.094048           1        1\n",
       "8      karthi    Missing  1000.0   9  0.094048           1        1\n",
       "9   rajendran    painter   200.0  10      -inf           0        0\n",
       "10       siva    Missing  1000.0  11  0.094048           1        1\n",
       "11    Missing     driver   500.0  12 -0.366513           0        0\n",
       "12      lakah  developer  1233.0  13  0.326634           0        0\n",
       "13     ganesh    Missing  1000.0  14  0.094048           1        1\n",
       "14        rao  scientist  1000.0  15  0.094048           1        1"
      ]
     },
     "execution_count": 187,
     "metadata": {},
     "output_type": "execute_result"
    }
   ],
   "source": [
    "data"
   ]
  },
  {
   "cell_type": "markdown",
   "metadata": {},
   "source": [
    "# Automated EDA\n",
    "    "
   ]
  },
  {
   "cell_type": "code",
   "execution_count": 188,
   "metadata": {},
   "outputs": [
    {
     "name": "stdout",
     "output_type": "stream",
     "text": [
      "Imported AutoViz_Class version: 0.0.81. Call using:\n",
      "    from autoviz.AutoViz_Class import AutoViz_Class\n",
      "    AV = AutoViz_Class()\n",
      "    AV.AutoViz(filename, sep=',', depVar='', dfte=None, header=0, verbose=0,\n",
      "                            lowess=False,chart_format='svg',max_rows_analyzed=150000,max_cols_analyzed=30)\n",
      "Note: verbose=0 or 1 generates charts and displays them in your local Jupyter notebook.\n",
      "      verbose=2 saves plots in your local machine under AutoViz_Plots directory and does not display charts.\n"
     ]
    }
   ],
   "source": [
    "from autoviz.AutoViz_Class import AutoViz_Class\n",
    "AV=AutoViz_Class"
   ]
  },
  {
   "cell_type": "code",
   "execution_count": 193,
   "metadata": {},
   "outputs": [
    {
     "ename": "TypeError",
     "evalue": "AutoViz() missing 1 required positional argument: 'filename'",
     "output_type": "error",
     "traceback": [
      "\u001b[1;31m---------------------------------------------------------------------------\u001b[0m",
      "\u001b[1;31mTypeError\u001b[0m                                 Traceback (most recent call last)",
      "\u001b[1;32m<ipython-input-193-ba31c4de4951>\u001b[0m in \u001b[0;36m<module>\u001b[1;34m\u001b[0m\n\u001b[0;32m      1\u001b[0m \u001b[0mfilename\u001b[0m\u001b[1;33m=\u001b[0m\u001b[1;34m'EDA.csv'\u001b[0m\u001b[1;33m\u001b[0m\u001b[1;33m\u001b[0m\u001b[0m\n\u001b[0;32m      2\u001b[0m \u001b[0msep\u001b[0m\u001b[1;33m=\u001b[0m\u001b[1;34m','\u001b[0m\u001b[1;33m\u001b[0m\u001b[1;33m\u001b[0m\u001b[0m\n\u001b[1;32m----> 3\u001b[1;33m \u001b[0mdft\u001b[0m\u001b[1;33m=\u001b[0m\u001b[0mAV\u001b[0m\u001b[1;33m.\u001b[0m\u001b[0mAutoViz\u001b[0m\u001b[1;33m(\u001b[0m\u001b[0mfilename\u001b[0m\u001b[1;33m,\u001b[0m\u001b[0msep\u001b[0m\u001b[1;33m=\u001b[0m\u001b[1;34m','\u001b[0m\u001b[1;33m,\u001b[0m\u001b[0mdepVar\u001b[0m\u001b[1;33m=\u001b[0m\u001b[1;34m\"\"\u001b[0m\u001b[1;33m,\u001b[0m\u001b[0mdfte\u001b[0m\u001b[1;33m=\u001b[0m\u001b[1;32mNone\u001b[0m\u001b[1;33m,\u001b[0m\u001b[0mheader\u001b[0m\u001b[1;33m=\u001b[0m\u001b[1;36m0\u001b[0m\u001b[1;33m)\u001b[0m\u001b[1;33m\u001b[0m\u001b[1;33m\u001b[0m\u001b[0m\n\u001b[0m",
      "\u001b[1;31mTypeError\u001b[0m: AutoViz() missing 1 required positional argument: 'filename'"
     ]
    }
   ],
   "source": [
    "filename='EDA.csv'\n",
    "sep=','\n",
    "dft=AV.AutoViz(filename,sep=',',depVar=\"\",dfte=None,header=0)"
   ]
  },
  {
   "cell_type": "code",
   "execution_count": 1,
   "metadata": {},
   "outputs": [
    {
     "name": "stdout",
     "output_type": "stream",
     "text": [
      "Collecting dtale\n",
      "  Downloading dtale-1.50.1-py2.py3-none-any.whl (14.4 MB)\n",
      "Requirement already satisfied: Flask; python_version >= \"3.7\" in c:\\users\\120761\\anaconda3\\lib\\site-packages (from dtale) (1.1.2)\n",
      "Collecting kaleido; python_version > \"3.6\"\n",
      "  Downloading kaleido-0.2.1-py2.py3-none-win_amd64.whl (65.9 MB)\n",
      "Requirement already satisfied: itsdangerous; python_version >= \"3.7\" in c:\\users\\120761\\anaconda3\\lib\\site-packages (from dtale) (1.1.0)\n",
      "Requirement already satisfied: scipy; python_version >= \"3.7\" in c:\\users\\120761\\anaconda3\\lib\\site-packages (from dtale) (1.5.2)\n",
      "Requirement already satisfied: numpy; python_version >= \"3.0\" in c:\\users\\120761\\anaconda3\\lib\\site-packages (from dtale) (1.19.2)\n",
      "Collecting Flask-Compress\n",
      "  Downloading Flask_Compress-1.10.1-py3-none-any.whl (7.9 kB)\n",
      "Collecting dash>=1.5.0\n",
      "  Downloading dash-1.20.0.tar.gz (77 kB)\n",
      "Requirement already satisfied: scikit-learn; python_version > \"3.0\" in c:\\users\\120761\\anaconda3\\lib\\site-packages (from dtale) (0.23.2)\n",
      "Requirement already satisfied: xlrd in c:\\users\\120761\\anaconda3\\lib\\site-packages (from dtale) (1.2.0)\n",
      "Requirement already satisfied: matplotlib; python_version > \"3.6\" in c:\\users\\120761\\anaconda3\\lib\\site-packages (from dtale) (3.3.2)\n",
      "Collecting dash-colorscales\n",
      "  Downloading dash_colorscales-0.0.4.tar.gz (62 kB)\n",
      "Requirement already satisfied: six in c:\\users\\120761\\anaconda3\\lib\\site-packages (from dtale) (1.15.0)\n",
      "Collecting strsimpy\n",
      "  Downloading strsimpy-0.2.0-py3-none-any.whl (45 kB)\n",
      "Collecting plotly>=4.9.0; python_version >= \"3.6\"\n",
      "  Downloading plotly-5.1.0-py2.py3-none-any.whl (20.6 MB)\n",
      "Collecting squarify\n",
      "  Downloading squarify-0.4.3-py3-none-any.whl (4.3 kB)\n",
      "Collecting ppscore; python_version >= \"3.6\"\n",
      "  Downloading ppscore-1.2.0.tar.gz (47 kB)\n",
      "Requirement already satisfied: future>=0.14.0 in c:\\users\\120761\\anaconda3\\lib\\site-packages (from dtale) (0.18.2)\n",
      "Collecting missingno\n",
      "  Downloading missingno-0.4.2-py3-none-any.whl (9.7 kB)\n",
      "Requirement already satisfied: pandas in c:\\users\\120761\\anaconda3\\lib\\site-packages (from dtale) (1.1.3)\n",
      "Requirement already satisfied: seaborn; python_version >= \"3.6\" in c:\\users\\120761\\anaconda3\\lib\\site-packages (from dtale) (0.11.0)\n",
      "Requirement already satisfied: requests in c:\\users\\120761\\anaconda3\\lib\\site-packages (from dtale) (2.24.0)\n",
      "Collecting dash-bootstrap-components; python_version > \"3.0\"\n",
      "  Downloading dash_bootstrap_components-0.12.2-py3-none-any.whl (191 kB)\n",
      "Requirement already satisfied: statsmodels; python_version > \"3.0\" in c:\\users\\120761\\anaconda3\\lib\\site-packages (from dtale) (0.12.0)\n",
      "Collecting xarray; python_version >= \"3.0\"\n",
      "  Downloading xarray-0.18.2-py3-none-any.whl (807 kB)\n",
      "Collecting lz4; python_version > \"3.0\"\n",
      "  Downloading lz4-3.1.3-cp38-cp38-win_amd64.whl (192 kB)\n",
      "Requirement already satisfied: networkx; python_version >= \"3.0\" in c:\\users\\120761\\anaconda3\\lib\\site-packages (from dtale) (2.5)\n",
      "Requirement already satisfied: et-xmlfile; python_version >= \"3.6\" in c:\\users\\120761\\anaconda3\\lib\\site-packages (from dtale) (1.0.1)\n",
      "Collecting flask-ngrok; python_version > \"3.0\"\n",
      "  Downloading flask_ngrok-0.0.25-py3-none-any.whl (3.1 kB)\n",
      "Collecting dash-daq\n",
      "  Downloading dash_daq-0.5.0.tar.gz (642 kB)\n",
      "Requirement already satisfied: openpyxl; python_version >= \"3.0\" in c:\\users\\120761\\anaconda3\\lib\\site-packages (from dtale) (3.0.5)\n",
      "Requirement already satisfied: Jinja2>=2.10.1 in c:\\users\\120761\\anaconda3\\lib\\site-packages (from Flask; python_version >= \"3.7\"->dtale) (2.11.2)\n",
      "Requirement already satisfied: click>=5.1 in c:\\users\\120761\\anaconda3\\lib\\site-packages (from Flask; python_version >= \"3.7\"->dtale) (7.1.2)\n",
      "Requirement already satisfied: Werkzeug>=0.15 in c:\\users\\120761\\anaconda3\\lib\\site-packages (from Flask; python_version >= \"3.7\"->dtale) (1.0.1)\n",
      "Collecting brotli\n",
      "  Downloading Brotli-1.0.9-cp38-cp38-win_amd64.whl (365 kB)\n",
      "Collecting dash_renderer==1.9.1\n",
      "  Downloading dash_renderer-1.9.1.tar.gz (1.0 MB)\n",
      "Collecting dash-core-components==1.16.0\n",
      "  Downloading dash_core_components-1.16.0.tar.gz (3.5 MB)\n",
      "Collecting dash-html-components==1.1.3\n",
      "  Downloading dash_html_components-1.1.3.tar.gz (82 kB)\n",
      "Collecting dash-table==4.11.3\n",
      "  Downloading dash_table-4.11.3.tar.gz (1.8 MB)\n",
      "Requirement already satisfied: threadpoolctl>=2.0.0 in c:\\users\\120761\\anaconda3\\lib\\site-packages (from scikit-learn; python_version > \"3.0\"->dtale) (2.1.0)\n",
      "Requirement already satisfied: joblib>=0.11 in c:\\users\\120761\\anaconda3\\lib\\site-packages (from scikit-learn; python_version > \"3.0\"->dtale) (0.17.0)\n",
      "Requirement already satisfied: pillow>=6.2.0 in c:\\users\\120761\\anaconda3\\lib\\site-packages (from matplotlib; python_version > \"3.6\"->dtale) (8.0.1)\n",
      "Requirement already satisfied: certifi>=2020.06.20 in c:\\users\\120761\\anaconda3\\lib\\site-packages (from matplotlib; python_version > \"3.6\"->dtale) (2020.6.20)\n",
      "Requirement already satisfied: python-dateutil>=2.1 in c:\\users\\120761\\anaconda3\\lib\\site-packages (from matplotlib; python_version > \"3.6\"->dtale) (2.8.1)\n",
      "Requirement already satisfied: kiwisolver>=1.0.1 in c:\\users\\120761\\anaconda3\\lib\\site-packages (from matplotlib; python_version > \"3.6\"->dtale) (1.3.0)\n",
      "Requirement already satisfied: pyparsing!=2.0.4,!=2.1.2,!=2.1.6,>=2.0.3 in c:\\users\\120761\\anaconda3\\lib\\site-packages (from matplotlib; python_version > \"3.6\"->dtale) (2.4.7)\n",
      "Requirement already satisfied: cycler>=0.10 in c:\\users\\120761\\anaconda3\\lib\\site-packages (from matplotlib; python_version > \"3.6\"->dtale) (0.10.0)\n",
      "Collecting tenacity>=6.2.0\n",
      "  Downloading tenacity-7.0.0-py2.py3-none-any.whl (23 kB)\n",
      "Requirement already satisfied: pytz>=2017.2 in c:\\users\\120761\\anaconda3\\lib\\site-packages (from pandas->dtale) (2020.1)\n",
      "Requirement already satisfied: chardet<4,>=3.0.2 in c:\\users\\120761\\anaconda3\\lib\\site-packages (from requests->dtale) (3.0.4)\n",
      "Requirement already satisfied: urllib3!=1.25.0,!=1.25.1,<1.26,>=1.21.1 in c:\\users\\120761\\anaconda3\\lib\\site-packages (from requests->dtale) (1.25.11)\n",
      "Requirement already satisfied: idna<3,>=2.5 in c:\\users\\120761\\anaconda3\\lib\\site-packages (from requests->dtale) (2.10)\n",
      "Requirement already satisfied: patsy>=0.5 in c:\\users\\120761\\anaconda3\\lib\\site-packages (from statsmodels; python_version > \"3.0\"->dtale) (0.5.1)\n",
      "Requirement already satisfied: setuptools>=40.4 in c:\\users\\120761\\anaconda3\\lib\\site-packages (from xarray; python_version >= \"3.0\"->dtale) (50.3.1.post20201107)\n",
      "Requirement already satisfied: decorator>=4.3.0 in c:\\users\\120761\\anaconda3\\lib\\site-packages (from networkx; python_version >= \"3.0\"->dtale) (4.4.2)\n",
      "Requirement already satisfied: jdcal in c:\\users\\120761\\anaconda3\\lib\\site-packages (from openpyxl; python_version >= \"3.0\"->dtale) (1.4.1)\n",
      "Requirement already satisfied: MarkupSafe>=0.23 in c:\\users\\120761\\anaconda3\\lib\\site-packages (from Jinja2>=2.10.1->Flask; python_version >= \"3.7\"->dtale) (1.1.1)\n",
      "Building wheels for collected packages: dash, dash-colorscales, ppscore, dash-daq, dash-renderer, dash-core-components, dash-html-components, dash-table\n",
      "  Building wheel for dash (setup.py): started\n",
      "  Building wheel for dash (setup.py): finished with status 'done'\n",
      "  Created wheel for dash: filename=dash-1.20.0-py3-none-any.whl size=85836 sha256=dee5b4d3c46f0e9ac379df47d1e94acf4d0381c3210c04ae66a89825d149f953\n",
      "  Stored in directory: c:\\users\\120761\\appdata\\local\\pip\\cache\\wheels\\e3\\1e\\fa\\0c810b67f082a7b9f33a128f6374b03cf5245edc45e37adbf8\n",
      "  Building wheel for dash-colorscales (setup.py): started\n",
      "  Building wheel for dash-colorscales (setup.py): finished with status 'done'\n",
      "  Created wheel for dash-colorscales: filename=dash_colorscales-0.0.4-py3-none-any.whl size=62603 sha256=1ef96a656613acda55294a61e5ef6b49b4e9dbe54377fe99aa00144bc8442636\n",
      "  Stored in directory: c:\\users\\120761\\appdata\\local\\pip\\cache\\wheels\\fe\\33\\33\\172dbfe1efc739352828854a113df599a428b58f68ed0c4f75\n",
      "  Building wheel for ppscore (setup.py): started\n",
      "  Building wheel for ppscore (setup.py): finished with status 'done'\n",
      "  Created wheel for ppscore: filename=ppscore-1.2.0-py2.py3-none-any.whl size=13055 sha256=678816036e5563d96693c7c8facd49bd621c40bd9f3de94772f16bdee238269b\n",
      "  Stored in directory: c:\\users\\120761\\appdata\\local\\pip\\cache\\wheels\\fb\\0e\\65\\da65ce669381fc01b6ef990d301d3586991f89bff1175877a4\n",
      "  Building wheel for dash-daq (setup.py): started\n",
      "  Building wheel for dash-daq (setup.py): finished with status 'done'\n",
      "  Created wheel for dash-daq: filename=dash_daq-0.5.0-py3-none-any.whl size=669706 sha256=e033f0a673adcf3e29a6127c05c51b351388bbd75e8b0394472a81a09e01daa8\n",
      "  Stored in directory: c:\\users\\120761\\appdata\\local\\pip\\cache\\wheels\\00\\35\\e5\\57e90f10c529601c6627400513cb65dd5adb09752411f5a050\n",
      "  Building wheel for dash-renderer (setup.py): started\n",
      "  Building wheel for dash-renderer (setup.py): finished with status 'done'\n",
      "  Created wheel for dash-renderer: filename=dash_renderer-1.9.1-py3-none-any.whl size=1014879 sha256=ceca75d1883461815044c19c0a97db6e59972e2f6cc8a1b9bfc36973e4257ad8\n",
      "  Stored in directory: c:\\users\\120761\\appdata\\local\\pip\\cache\\wheels\\ac\\7e\\fd\\807844722d79d8babcd27b16e5f7ecc7b476c45ca607c11729\n",
      "  Building wheel for dash-core-components (setup.py): started\n",
      "  Building wheel for dash-core-components (setup.py): finished with status 'done'\n",
      "  Created wheel for dash-core-components: filename=dash_core_components-1.16.0-py3-none-any.whl size=3540995 sha256=72b84b23bef28ff2a14764268d09844a0e54756daa3f500a491e6161d88ebe30\n",
      "  Stored in directory: c:\\users\\120761\\appdata\\local\\pip\\cache\\wheels\\68\\92\\0c\\4ac6d91639a754ebf3adfab7172c61fe408e7c71d00b8cbf66\n",
      "  Building wheel for dash-html-components (setup.py): started\n",
      "  Building wheel for dash-html-components (setup.py): finished with status 'done'\n",
      "  Created wheel for dash-html-components: filename=dash_html_components-1.1.3-py3-none-any.whl size=319476 sha256=8eb3db3b8d8579f2501d13ef1c73582744cc0a5d8e5166990dee5ce1c17d2637\n",
      "  Stored in directory: c:\\users\\120761\\appdata\\local\\pip\\cache\\wheels\\2a\\a3\\33\\bf6842d5d279588f8989ee8c2f9d9d8feb7af82216493a1eea\n",
      "  Building wheel for dash-table (setup.py): started\n",
      "  Building wheel for dash-table (setup.py): finished with status 'done'\n",
      "  Created wheel for dash-table: filename=dash_table-4.11.3-py3-none-any.whl size=1827621 sha256=578caf0297227c11c7f40100ea18b28b79f5f38976760fe56e0d8482a7fea249\n",
      "  Stored in directory: c:\\users\\120761\\appdata\\local\\pip\\cache\\wheels\\0c\\9c\\bd\\06904831bdaa998ad1f53584553c5e06324814328666699128\n",
      "Successfully built dash dash-colorscales ppscore dash-daq dash-renderer dash-core-components dash-html-components dash-table\n",
      "Installing collected packages: kaleido, brotli, Flask-Compress, tenacity, plotly, dash-renderer, dash-core-components, dash-html-components, dash-table, dash, dash-colorscales, strsimpy, squarify, ppscore, missingno, dash-bootstrap-components, xarray, lz4, flask-ngrok, dash-daq, dtale\n",
      "Successfully installed Flask-Compress-1.10.1 brotli-1.0.9 dash-1.20.0 dash-bootstrap-components-0.12.2 dash-colorscales-0.0.4 dash-core-components-1.16.0 dash-daq-0.5.0 dash-html-components-1.1.3 dash-renderer-1.9.1 dash-table-4.11.3 dtale-1.50.1 flask-ngrok-0.0.25 kaleido-0.2.1 lz4-3.1.3 missingno-0.4.2 plotly-5.1.0 ppscore-1.2.0 squarify-0.4.3 strsimpy-0.2.0 tenacity-7.0.0 xarray-0.18.2\n"
     ]
    }
   ],
   "source": [
    "!pip install dtale"
   ]
  },
  {
   "cell_type": "code",
   "execution_count": 3,
   "metadata": {},
   "outputs": [
    {
     "data": {
      "text/html": [
       "<div>\n",
       "<style scoped>\n",
       "    .dataframe tbody tr th:only-of-type {\n",
       "        vertical-align: middle;\n",
       "    }\n",
       "\n",
       "    .dataframe tbody tr th {\n",
       "        vertical-align: top;\n",
       "    }\n",
       "\n",
       "    .dataframe thead th {\n",
       "        text-align: right;\n",
       "    }\n",
       "</style>\n",
       "<table border=\"1\" class=\"dataframe\">\n",
       "  <thead>\n",
       "    <tr style=\"text-align: right;\">\n",
       "      <th></th>\n",
       "      <th>survived</th>\n",
       "      <th>pclass</th>\n",
       "      <th>sex</th>\n",
       "      <th>age</th>\n",
       "      <th>sibsp</th>\n",
       "      <th>parch</th>\n",
       "      <th>fare</th>\n",
       "      <th>embarked</th>\n",
       "      <th>class</th>\n",
       "      <th>who</th>\n",
       "      <th>adult_male</th>\n",
       "      <th>deck</th>\n",
       "      <th>embark_town</th>\n",
       "      <th>alive</th>\n",
       "      <th>alone</th>\n",
       "    </tr>\n",
       "  </thead>\n",
       "  <tbody>\n",
       "    <tr>\n",
       "      <th>0</th>\n",
       "      <td>0</td>\n",
       "      <td>3</td>\n",
       "      <td>male</td>\n",
       "      <td>22.0</td>\n",
       "      <td>1</td>\n",
       "      <td>0</td>\n",
       "      <td>7.2500</td>\n",
       "      <td>S</td>\n",
       "      <td>Third</td>\n",
       "      <td>man</td>\n",
       "      <td>True</td>\n",
       "      <td>NaN</td>\n",
       "      <td>Southampton</td>\n",
       "      <td>no</td>\n",
       "      <td>False</td>\n",
       "    </tr>\n",
       "    <tr>\n",
       "      <th>1</th>\n",
       "      <td>1</td>\n",
       "      <td>1</td>\n",
       "      <td>female</td>\n",
       "      <td>38.0</td>\n",
       "      <td>1</td>\n",
       "      <td>0</td>\n",
       "      <td>71.2833</td>\n",
       "      <td>C</td>\n",
       "      <td>First</td>\n",
       "      <td>woman</td>\n",
       "      <td>False</td>\n",
       "      <td>C</td>\n",
       "      <td>Cherbourg</td>\n",
       "      <td>yes</td>\n",
       "      <td>False</td>\n",
       "    </tr>\n",
       "    <tr>\n",
       "      <th>2</th>\n",
       "      <td>1</td>\n",
       "      <td>3</td>\n",
       "      <td>female</td>\n",
       "      <td>26.0</td>\n",
       "      <td>0</td>\n",
       "      <td>0</td>\n",
       "      <td>7.9250</td>\n",
       "      <td>S</td>\n",
       "      <td>Third</td>\n",
       "      <td>woman</td>\n",
       "      <td>False</td>\n",
       "      <td>NaN</td>\n",
       "      <td>Southampton</td>\n",
       "      <td>yes</td>\n",
       "      <td>True</td>\n",
       "    </tr>\n",
       "    <tr>\n",
       "      <th>3</th>\n",
       "      <td>1</td>\n",
       "      <td>1</td>\n",
       "      <td>female</td>\n",
       "      <td>35.0</td>\n",
       "      <td>1</td>\n",
       "      <td>0</td>\n",
       "      <td>53.1000</td>\n",
       "      <td>S</td>\n",
       "      <td>First</td>\n",
       "      <td>woman</td>\n",
       "      <td>False</td>\n",
       "      <td>C</td>\n",
       "      <td>Southampton</td>\n",
       "      <td>yes</td>\n",
       "      <td>False</td>\n",
       "    </tr>\n",
       "    <tr>\n",
       "      <th>4</th>\n",
       "      <td>0</td>\n",
       "      <td>3</td>\n",
       "      <td>male</td>\n",
       "      <td>35.0</td>\n",
       "      <td>0</td>\n",
       "      <td>0</td>\n",
       "      <td>8.0500</td>\n",
       "      <td>S</td>\n",
       "      <td>Third</td>\n",
       "      <td>man</td>\n",
       "      <td>True</td>\n",
       "      <td>NaN</td>\n",
       "      <td>Southampton</td>\n",
       "      <td>no</td>\n",
       "      <td>True</td>\n",
       "    </tr>\n",
       "    <tr>\n",
       "      <th>...</th>\n",
       "      <td>...</td>\n",
       "      <td>...</td>\n",
       "      <td>...</td>\n",
       "      <td>...</td>\n",
       "      <td>...</td>\n",
       "      <td>...</td>\n",
       "      <td>...</td>\n",
       "      <td>...</td>\n",
       "      <td>...</td>\n",
       "      <td>...</td>\n",
       "      <td>...</td>\n",
       "      <td>...</td>\n",
       "      <td>...</td>\n",
       "      <td>...</td>\n",
       "      <td>...</td>\n",
       "    </tr>\n",
       "    <tr>\n",
       "      <th>886</th>\n",
       "      <td>0</td>\n",
       "      <td>2</td>\n",
       "      <td>male</td>\n",
       "      <td>27.0</td>\n",
       "      <td>0</td>\n",
       "      <td>0</td>\n",
       "      <td>13.0000</td>\n",
       "      <td>S</td>\n",
       "      <td>Second</td>\n",
       "      <td>man</td>\n",
       "      <td>True</td>\n",
       "      <td>NaN</td>\n",
       "      <td>Southampton</td>\n",
       "      <td>no</td>\n",
       "      <td>True</td>\n",
       "    </tr>\n",
       "    <tr>\n",
       "      <th>887</th>\n",
       "      <td>1</td>\n",
       "      <td>1</td>\n",
       "      <td>female</td>\n",
       "      <td>19.0</td>\n",
       "      <td>0</td>\n",
       "      <td>0</td>\n",
       "      <td>30.0000</td>\n",
       "      <td>S</td>\n",
       "      <td>First</td>\n",
       "      <td>woman</td>\n",
       "      <td>False</td>\n",
       "      <td>B</td>\n",
       "      <td>Southampton</td>\n",
       "      <td>yes</td>\n",
       "      <td>True</td>\n",
       "    </tr>\n",
       "    <tr>\n",
       "      <th>888</th>\n",
       "      <td>0</td>\n",
       "      <td>3</td>\n",
       "      <td>female</td>\n",
       "      <td>NaN</td>\n",
       "      <td>1</td>\n",
       "      <td>2</td>\n",
       "      <td>23.4500</td>\n",
       "      <td>S</td>\n",
       "      <td>Third</td>\n",
       "      <td>woman</td>\n",
       "      <td>False</td>\n",
       "      <td>NaN</td>\n",
       "      <td>Southampton</td>\n",
       "      <td>no</td>\n",
       "      <td>False</td>\n",
       "    </tr>\n",
       "    <tr>\n",
       "      <th>889</th>\n",
       "      <td>1</td>\n",
       "      <td>1</td>\n",
       "      <td>male</td>\n",
       "      <td>26.0</td>\n",
       "      <td>0</td>\n",
       "      <td>0</td>\n",
       "      <td>30.0000</td>\n",
       "      <td>C</td>\n",
       "      <td>First</td>\n",
       "      <td>man</td>\n",
       "      <td>True</td>\n",
       "      <td>C</td>\n",
       "      <td>Cherbourg</td>\n",
       "      <td>yes</td>\n",
       "      <td>True</td>\n",
       "    </tr>\n",
       "    <tr>\n",
       "      <th>890</th>\n",
       "      <td>0</td>\n",
       "      <td>3</td>\n",
       "      <td>male</td>\n",
       "      <td>32.0</td>\n",
       "      <td>0</td>\n",
       "      <td>0</td>\n",
       "      <td>7.7500</td>\n",
       "      <td>Q</td>\n",
       "      <td>Third</td>\n",
       "      <td>man</td>\n",
       "      <td>True</td>\n",
       "      <td>NaN</td>\n",
       "      <td>Queenstown</td>\n",
       "      <td>no</td>\n",
       "      <td>True</td>\n",
       "    </tr>\n",
       "  </tbody>\n",
       "</table>\n",
       "<p>891 rows × 15 columns</p>\n",
       "</div>"
      ],
      "text/plain": [
       "     survived  pclass     sex   age  sibsp  parch     fare embarked   class  \\\n",
       "0           0       3    male  22.0      1      0   7.2500        S   Third   \n",
       "1           1       1  female  38.0      1      0  71.2833        C   First   \n",
       "2           1       3  female  26.0      0      0   7.9250        S   Third   \n",
       "3           1       1  female  35.0      1      0  53.1000        S   First   \n",
       "4           0       3    male  35.0      0      0   8.0500        S   Third   \n",
       "..        ...     ...     ...   ...    ...    ...      ...      ...     ...   \n",
       "886         0       2    male  27.0      0      0  13.0000        S  Second   \n",
       "887         1       1  female  19.0      0      0  30.0000        S   First   \n",
       "888         0       3  female   NaN      1      2  23.4500        S   Third   \n",
       "889         1       1    male  26.0      0      0  30.0000        C   First   \n",
       "890         0       3    male  32.0      0      0   7.7500        Q   Third   \n",
       "\n",
       "       who  adult_male deck  embark_town alive  alone  \n",
       "0      man        True  NaN  Southampton    no  False  \n",
       "1    woman       False    C    Cherbourg   yes  False  \n",
       "2    woman       False  NaN  Southampton   yes   True  \n",
       "3    woman       False    C  Southampton   yes  False  \n",
       "4      man        True  NaN  Southampton    no   True  \n",
       "..     ...         ...  ...          ...   ...    ...  \n",
       "886    man        True  NaN  Southampton    no   True  \n",
       "887  woman       False    B  Southampton   yes   True  \n",
       "888  woman       False  NaN  Southampton    no  False  \n",
       "889    man        True    C    Cherbourg   yes   True  \n",
       "890    man        True  NaN   Queenstown    no   True  \n",
       "\n",
       "[891 rows x 15 columns]"
      ]
     },
     "execution_count": 3,
     "metadata": {},
     "output_type": "execute_result"
    }
   ],
   "source": [
    "import seaborn as sns\n",
    "\n",
    "df=sns.load_dataset('titanic')\n",
    "df"
   ]
  },
  {
   "cell_type": "code",
   "execution_count": 4,
   "metadata": {},
   "outputs": [],
   "source": [
    "import dtale"
   ]
  },
  {
   "cell_type": "code",
   "execution_count": 5,
   "metadata": {},
   "outputs": [
    {
     "name": "stderr",
     "output_type": "stream",
     "text": [
      "2021-07-01 19:24:34,059 - INFO     - NumExpr defaulting to 4 threads.\n"
     ]
    },
    {
     "data": {
      "text/html": [
       "\n",
       "        <iframe\n",
       "            width=\"100%\"\n",
       "            height=\"475\"\n",
       "            src=\"http://5CG84431TB:40000/dtale/iframe/1\"\n",
       "            frameborder=\"0\"\n",
       "            allowfullscreen\n",
       "        ></iframe>\n",
       "        "
      ],
      "text/plain": [
       "<IPython.lib.display.IFrame at 0x2ab18508880>"
      ]
     },
     "metadata": {},
     "output_type": "display_data"
    },
    {
     "data": {
      "text/plain": []
     },
     "execution_count": 5,
     "metadata": {},
     "output_type": "execute_result"
    },
    {
     "name": "stdout",
     "output_type": "stream",
     "text": [
      "Executing shutdown due to inactivity...\n"
     ]
    },
    {
     "name": "stderr",
     "output_type": "stream",
     "text": [
      "2021-07-01 20:49:10,413 - INFO     - Executing shutdown due to inactivity...\n"
     ]
    },
    {
     "name": "stdout",
     "output_type": "stream",
     "text": [
      "Executing shutdown...\n"
     ]
    },
    {
     "name": "stderr",
     "output_type": "stream",
     "text": [
      "2021-07-01 20:49:14,509 - INFO     - Executing shutdown...\n"
     ]
    }
   ],
   "source": [
    "dtale.show(df)"
   ]
  },
  {
   "cell_type": "code",
   "execution_count": null,
   "metadata": {},
   "outputs": [],
   "source": []
  }
 ],
 "metadata": {
  "kernelspec": {
   "display_name": "Python 3",
   "language": "python",
   "name": "python3"
  },
  "language_info": {
   "codemirror_mode": {
    "name": "ipython",
    "version": 3
   },
   "file_extension": ".py",
   "mimetype": "text/x-python",
   "name": "python",
   "nbconvert_exporter": "python",
   "pygments_lexer": "ipython3",
   "version": "3.8.5"
  }
 },
 "nbformat": 4,
 "nbformat_minor": 4
}
