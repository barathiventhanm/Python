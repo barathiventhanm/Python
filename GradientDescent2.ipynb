{
 "cells": [
  {
   "cell_type": "code",
   "execution_count": 4,
   "metadata": {},
   "outputs": [],
   "source": [
    "import pandas as pd\n",
    "import numpy as np\n",
    "import matplotlib.pyplot as plt\n"
   ]
  },
  {
   "cell_type": "code",
   "execution_count": 5,
   "metadata": {},
   "outputs": [],
   "source": [
    "data=pd.read_csv('C:/Users/120761/Documents/PyScripts/anthem.csv')"
   ]
  },
  {
   "cell_type": "code",
   "execution_count": 6,
   "metadata": {},
   "outputs": [
    {
     "data": {
      "image/png": "[encoded data removed]",
      "text/plain": [
       "<Figure size 432x288 with 1 Axes>"
      ]
     },
     "metadata": {
      "needs_background": "light"
     },
     "output_type": "display_data"
    }
   ],
   "source": [
    "X=data.iloc[:,0]\n",
    "Y=data.iloc[:,1]\n",
    "plt.scatter(X,Y)\n",
    "plt.show()\n"
   ]
  },
  {
   "cell_type": "code",
   "execution_count": 7,
   "metadata": {},
   "outputs": [
    {
     "name": "stdout",
     "output_type": "stream",
     "text": [
      "1080.528732327909 158.56082683433425\n"
     ]
    }
   ],
   "source": [
    "m=0\n",
    "c=0\n",
    "\n",
    "n=len(X)\n",
    "lr=0.0001\n",
    "iterations=1000\n",
    "\n",
    "for i in range(len(X)):\n",
    "    Y_pred=m*X+c\n",
    "    d_m=(-2/n)* sum(X * (Y-Y_pred))\n",
    "    d_c=(-2/n)* sum (Y-Y_pred)\n",
    "    m  = m- (lr)*d_m\n",
    "    c  = c- (lr)*d_c\n",
    "print(m,c)"
   ]
  },
  {
   "cell_type": "code",
   "execution_count": 8,
   "metadata": {},
   "outputs": [
    {
     "data": {
      "image/png": "[encoded data removed]",
      "text/plain": [
       "<Figure size 432x288 with 1 Axes>"
      ]
     },
     "metadata": {
      "needs_background": "light"
     },
     "output_type": "display_data"
    }
   ],
   "source": [
    "Y_pred=m*X+c\n",
    "\n",
    "plt.scatter(X,Y)\n",
    "plt.scatter(X,Y_pred)\n",
    "plt.show()"
   ]
  },
  {
   "cell_type": "code",
   "execution_count": 9,
   "metadata": {},
   "outputs": [
    {
     "data": {
      "text/html": [
       "<div>\n",
       "<style scoped>\n",
       "    .dataframe tbody tr th:only-of-type {\n",
       "        vertical-align: middle;\n",
       "    }\n",
       "\n",
       "    .dataframe tbody tr th {\n",
       "        vertical-align: top;\n",
       "    }\n",
       "\n",
       "    .dataframe thead th {\n",
       "        text-align: right;\n",
       "    }\n",
       "</style>\n",
       "<table border=\"1\" class=\"dataframe\">\n",
       "  <thead>\n",
       "    <tr style=\"text-align: right;\">\n",
       "      <th></th>\n",
       "      <th>X</th>\n",
       "      <th>Y</th>\n",
       "    </tr>\n",
       "  </thead>\n",
       "  <tbody>\n",
       "    <tr>\n",
       "      <th>X</th>\n",
       "      <td>1.000000</td>\n",
       "      <td>0.812873</td>\n",
       "    </tr>\n",
       "    <tr>\n",
       "      <th>Y</th>\n",
       "      <td>0.812873</td>\n",
       "      <td>1.000000</td>\n",
       "    </tr>\n",
       "  </tbody>\n",
       "</table>\n",
       "</div>"
      ],
      "text/plain": [
       "          X         Y\n",
       "X  1.000000  0.812873\n",
       "Y  0.812873  1.000000"
      ]
     },
     "execution_count": 9,
     "metadata": {},
     "output_type": "execute_result"
    }
   ],
   "source": [
    "data.corr(method='pearson')"
   ]
  },
  {
   "cell_type": "code",
   "execution_count": 10,
   "metadata": {},
   "outputs": [
    {
     "name": "stdout",
     "output_type": "stream",
     "text": [
      "11250.883333400043 23578.92222174955\n"
     ]
    }
   ],
   "source": [
    "m=0\n",
    "c=0\n",
    "\n",
    "n=len(X)\n",
    "lr=0.008\n",
    "iterations=10000\n",
    "\n",
    "for i in range(iterations):\n",
    "    Y_pred=m*X+c\n",
    "    d_m=(-2/n)* sum(X * (Y-Y_pred))\n",
    "    d_c=(-2/n)* sum (Y-Y_pred)\n",
    "    m  = m- (lr)*d_m\n",
    "    c  = c- (lr)*d_c\n",
    "print(m,c)"
   ]
  },
  {
   "cell_type": "code",
   "execution_count": 11,
   "metadata": {},
   "outputs": [
    {
     "data": {
      "image/png": "[encoded data removed]",
      "text/plain": [
       "<Figure size 432x288 with 1 Axes>"
      ]
     },
     "metadata": {
      "needs_background": "light"
     },
     "output_type": "display_data"
    }
   ],
   "source": [
    "Y_pred=m*X+c\n",
    "\n",
    "plt.scatter(X,Y)\n",
    "plt.scatter(X,Y_pred)\n",
    "plt.show()"
   ]
  },
  {
   "cell_type": "code",
   "execution_count": 12,
   "metadata": {},
   "outputs": [],
   "source": [
    "import numpy as np"
   ]
  },
  {
   "cell_type": "code",
   "execution_count": 13,
   "metadata": {},
   "outputs": [],
   "source": [
    "X=np.array(data.iloc[:,0])\n",
    "Y=np.array(data.iloc[:,1])"
   ]
  },
  {
   "cell_type": "code",
   "execution_count": 16,
   "metadata": {},
   "outputs": [
    {
     "data": {
      "text/plain": [
       "array([  9436,  82979,  80899,  82784,  86441, 106315, 143385,  96845,\n",
       "       130674], dtype=int64)"
      ]
     },
     "execution_count": 16,
     "metadata": {},
     "output_type": "execute_result"
    }
   ],
   "source": [
    "Y"
   ]
  },
  {
   "cell_type": "code",
   "execution_count": 17,
   "metadata": {},
   "outputs": [
    {
     "name": "stdout",
     "output_type": "stream",
     "text": [
      "m 11250.88333477209,c 23578.922212027803,iteration9999\n"
     ]
    }
   ],
   "source": [
    "def gradient_descent(X,Y):\n",
    "    m=0\n",
    "    c=0\n",
    "    l=0.007\n",
    "    iteration=10000\n",
    "    n=len(X)\n",
    "\n",
    "    for i in range(iteration):\n",
    "        Y_pred= (m*X)+c\n",
    "        d_m=(-2/n)*sum(X*(Y-Y_pred))\n",
    "        d_c=(-2/n)*sum(Y-Y_pred)\n",
    "        m=m-(l*d_m)\n",
    "        c=c-(l*d_c)\n",
    "    print(\"m {},c {},iteration{}\".format(m,c,i))\n",
    "\n",
    "gradient_descent(X,Y)"
   ]
  },
  {
   "cell_type": "code",
   "execution_count": 18,
   "metadata": {},
   "outputs": [
    {
     "name": "stdout",
     "output_type": "stream",
     "text": [
      "m 11250.88333477209,c 23578.922212027803,iteration9999\n"
     ]
    }
   ],
   "source": [
    "gradient_descent(X,Y)"
   ]
  },
  {
   "cell_type": "code",
   "execution_count": 19,
   "metadata": {},
   "outputs": [],
   "source": [
    "X=np.array(data.iloc[:,0])\n",
    "Y=np.array(data.iloc[:,1])"
   ]
  },
  {
   "cell_type": "code",
   "execution_count": 20,
   "metadata": {},
   "outputs": [
    {
     "name": "stdout",
     "output_type": "stream",
     "text": [
      "m 11250.88333477209,c 23578.922212027803,iteration9999\n"
     ]
    }
   ],
   "source": [
    "gradient_descent(X,Y)"
   ]
  },
  {
   "cell_type": "code",
   "execution_count": null,
   "metadata": {},
   "outputs": [],
   "source": []
  }
 ],
 "metadata": {
  "kernelspec": {
   "display_name": "Python 3",
   "language": "python",
   "name": "python3"
  },
  "language_info": {
   "codemirror_mode": {
    "name": "ipython",
    "version": 3
   },
   "file_extension": ".py",
   "mimetype": "text/x-python",
   "name": "python",
   "nbconvert_exporter": "python",
   "pygments_lexer": "ipython3",
   "version": "3.8.5"
  }
 },
 "nbformat": 4,
 "nbformat_minor": 4
}
